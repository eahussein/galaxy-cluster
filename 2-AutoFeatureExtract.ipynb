{
 "cells": [
  {
   "cell_type": "markdown",
   "id": "7cd3a024-5f12-47ce-8511-c2bfae262628",
   "metadata": {},
   "source": [
    "# Feature reduction and extraction\n"
   ]
  },
  {
   "cell_type": "markdown",
   "id": "21e5412c-eb3a-416a-81ff-ce5f77a0df88",
   "metadata": {},
   "source": [
    "In this notebook we will extract features using deep learning method called Convultional autoencoder.\n",
    "\n",
    "The input and the output to this method will be the galaxy images"
   ]
  },
  {
   "cell_type": "markdown",
   "id": "1db6ea83-3e9c-4750-bc98-56fc09791a99",
   "metadata": {},
   "source": [
    "---"
   ]
  },
  {
   "cell_type": "markdown",
   "id": "8030153b-d68e-4f25-8774-4b9e4bb5bfef",
   "metadata": {},
   "source": [
    "let us call the data from the prevoius notebook"
   ]
  },
  {
   "cell_type": "code",
   "execution_count": 1,
   "id": "3e59be15-ec2f-48bc-b208-85c872ed6fc8",
   "metadata": {},
   "outputs": [],
   "source": [
    "%store -r images_trainPre"
   ]
  },
  {
   "cell_type": "code",
   "execution_count": 2,
   "id": "5b59fd67-1828-42f6-b89d-57ee24d4bdb0",
   "metadata": {},
   "outputs": [
    {
     "data": {
      "text/plain": [
       "torch.Size([8000, 1, 56, 56])"
      ]
     },
     "execution_count": 2,
     "metadata": {},
     "output_type": "execute_result"
    }
   ],
   "source": [
    "images_trainPre.shape"
   ]
  },
  {
   "cell_type": "code",
   "execution_count": 3,
   "id": "1bc493b5-0fc2-4b86-b8f9-e77be645b1ba",
   "metadata": {},
   "outputs": [],
   "source": [
    "images_trainPre = images_trainPre.reshape(8000,56,56)"
   ]
  },
  {
   "cell_type": "markdown",
   "id": "6047d1e4-3ed9-4b6f-b25e-7075a0495972",
   "metadata": {},
   "source": [
    "---"
   ]
  },
  {
   "cell_type": "code",
   "execution_count": 4,
   "id": "7b6f3fa6-21b1-4153-9f58-7936ef084664",
   "metadata": {},
   "outputs": [
    {
     "name": "stderr",
     "output_type": "stream",
     "text": [
      "2022-10-18 14:44:09.264769: I tensorflow/core/platform/cpu_feature_guard.cc:193] This TensorFlow binary is optimized with oneAPI Deep Neural Network Library (oneDNN) to use the following CPU instructions in performance-critical operations:  AVX2 FMA\n",
      "To enable them in other operations, rebuild TensorFlow with the appropriate compiler flags.\n",
      "2022-10-18 14:44:12.011423: W tensorflow/stream_executor/platform/default/dso_loader.cc:64] Could not load dynamic library 'libcudart.so.11.0'; dlerror: libcudart.so.11.0: cannot open shared object file: No such file or directory\n",
      "2022-10-18 14:44:12.011513: I tensorflow/stream_executor/cuda/cudart_stub.cc:29] Ignore above cudart dlerror if you do not have a GPU set up on your machine.\n",
      "2022-10-18 14:44:12.227856: E tensorflow/stream_executor/cuda/cuda_blas.cc:2981] Unable to register cuBLAS factory: Attempting to register factory for plugin cuBLAS when one has already been registered\n",
      "2022-10-18 14:44:59.904678: W tensorflow/stream_executor/platform/default/dso_loader.cc:64] Could not load dynamic library 'libnvinfer.so.7'; dlerror: libnvinfer.so.7: cannot open shared object file: No such file or directory\n",
      "2022-10-18 14:44:59.909650: W tensorflow/stream_executor/platform/default/dso_loader.cc:64] Could not load dynamic library 'libnvinfer_plugin.so.7'; dlerror: libnvinfer_plugin.so.7: cannot open shared object file: No such file or directory\n",
      "2022-10-18 14:44:59.909701: W tensorflow/compiler/tf2tensorrt/utils/py_utils.cc:38] TF-TRT Warning: Cannot dlopen some TensorRT libraries. If you would like to use Nvidia GPU with TensorRT, please make sure the missing libraries mentioned above are installed properly.\n"
     ]
    }
   ],
   "source": [
    "import tensorflow as tf\n",
    "from source.galaxyencode import GalaxyEncoder"
   ]
  },
  {
   "cell_type": "code",
   "execution_count": 5,
   "id": "e4586cff-b664-4a19-b1bb-a3d1de4e281e",
   "metadata": {},
   "outputs": [
    {
     "name": "stderr",
     "output_type": "stream",
     "text": [
      "2022-10-18 14:46:37.661976: W tensorflow/stream_executor/platform/default/dso_loader.cc:64] Could not load dynamic library 'libcuda.so.1'; dlerror: libcuda.so.1: cannot open shared object file: No such file or directory\n",
      "2022-10-18 14:46:37.662033: W tensorflow/stream_executor/cuda/cuda_driver.cc:263] failed call to cuInit: UNKNOWN ERROR (303)\n",
      "2022-10-18 14:46:37.662063: I tensorflow/stream_executor/cuda/cuda_diagnostics.cc:156] kernel driver does not appear to be running on this host (jupyter-001): /proc/driver/nvidia/version does not exist\n",
      "2022-10-18 14:46:37.662619: I tensorflow/core/platform/cpu_feature_guard.cc:193] This TensorFlow binary is optimized with oneAPI Deep Neural Network Library (oneDNN) to use the following CPU instructions in performance-critical operations:  AVX2 FMA\n",
      "To enable them in other operations, rebuild TensorFlow with the appropriate compiler flags.\n"
     ]
    }
   ],
   "source": [
    "model = GalaxyEncoder()"
   ]
  },
  {
   "cell_type": "code",
   "execution_count": 6,
   "id": "3e59a273-0ed3-417f-95bd-c6ee516e713a",
   "metadata": {},
   "outputs": [],
   "source": [
    "model.compile(optimizer='sgd', loss='mse')\n"
   ]
  },
  {
   "cell_type": "code",
   "execution_count": 7,
   "id": "38b959d2-ba12-4a73-bea8-368a51662586",
   "metadata": {},
   "outputs": [
    {
     "name": "stdout",
     "output_type": "stream",
     "text": [
      "Model: \"galaxy_encoder\"\n",
      "_________________________________________________________________\n",
      " Layer (type)                Output Shape              Param #   \n",
      "=================================================================\n",
      " sequential (Sequential)     (None, 1568)              1320      \n",
      "                                                                 \n",
      " sequential_1 (Sequential)   (None, 56, 56, 1)         225       \n",
      "                                                                 \n",
      "=================================================================\n",
      "Total params: 1,545\n",
      "Trainable params: 1,545\n",
      "Non-trainable params: 0\n",
      "_________________________________________________________________\n"
     ]
    }
   ],
   "source": [
    "model.build((None, 56,56,1))\n",
    "model.summary()"
   ]
  },
  {
   "cell_type": "code",
   "execution_count": 8,
   "id": "0dedbf94-4905-4a2e-af61-523c414b1687",
   "metadata": {},
   "outputs": [],
   "source": [
    "import time"
   ]
  },
  {
   "cell_type": "code",
   "execution_count": 9,
   "id": "d9a71d81-217e-4c43-8b6f-11da9e7fa0aa",
   "metadata": {},
   "outputs": [
    {
     "name": "stdout",
     "output_type": "stream",
     "text": [
      "(60000, 28, 28)\n",
      "(10000, 28, 28)\n",
      "torch.Size([8000, 56, 56])\n"
     ]
    }
   ],
   "source": [
    "from tensorflow.keras.datasets import fashion_mnist\n",
    "\n",
    "(x_train, _), (x_test, _) = fashion_mnist.load_data()\n",
    "\n",
    "x_train = x_train.astype('float32') / 255.\n",
    "x_test = x_test.astype('float32') / 255.\n",
    "\n",
    "print (x_train.shape)\n",
    "print (x_test.shape)\n",
    "print(images_trainPre.shape)"
   ]
  },
  {
   "cell_type": "code",
   "execution_count": 10,
   "id": "90152f75-50db-4d15-b03a-3257d0783fcd",
   "metadata": {},
   "outputs": [],
   "source": [
    "import numpy as np"
   ]
  },
  {
   "cell_type": "code",
   "execution_count": 11,
   "id": "b1d70be8-cde2-4f97-96c6-994cae703b7b",
   "metadata": {},
   "outputs": [
    {
     "name": "stdout",
     "output_type": "stream",
     "text": [
      "Start Time:  1666097199.2840204\n",
      "Epoch 1/30\n",
      "31/31 [==============================] - 11s 311ms/step - loss: 1400.6427\n",
      "Epoch 2/30\n",
      "31/31 [==============================] - 10s 313ms/step - loss: 1400.1858\n",
      "Epoch 3/30\n",
      "31/31 [==============================] - 10s 317ms/step - loss: 1400.1860\n",
      "Epoch 4/30\n",
      "31/31 [==============================] - 10s 320ms/step - loss: 1400.1862\n",
      "Epoch 5/30\n",
      "31/31 [==============================] - 10s 314ms/step - loss: 1400.1860\n",
      "Epoch 6/30\n",
      "31/31 [==============================] - 10s 311ms/step - loss: 1400.1860\n",
      "Epoch 7/30\n",
      "31/31 [==============================] - 10s 314ms/step - loss: 1400.1859\n",
      "Epoch 8/30\n",
      "31/31 [==============================] - 10s 315ms/step - loss: 1400.1860\n",
      "Epoch 9/30\n",
      "31/31 [==============================] - 10s 312ms/step - loss: 1400.1860\n",
      "Epoch 10/30\n",
      "31/31 [==============================] - 10s 315ms/step - loss: 1400.1860\n",
      "Epoch 11/30\n",
      "31/31 [==============================] - 10s 311ms/step - loss: 1400.1862\n",
      "Epoch 12/30\n",
      "31/31 [==============================] - 10s 318ms/step - loss: 1400.1860\n",
      "Epoch 13/30\n",
      "31/31 [==============================] - 10s 320ms/step - loss: 1400.1858\n",
      "Epoch 14/30\n",
      "31/31 [==============================] - 10s 315ms/step - loss: 1400.1859\n",
      "Epoch 15/30\n",
      "31/31 [==============================] - 10s 309ms/step - loss: 1400.1859\n",
      "Epoch 16/30\n",
      "31/31 [==============================] - 10s 314ms/step - loss: 1400.1860\n",
      "Epoch 17/30\n",
      "31/31 [==============================] - 10s 315ms/step - loss: 1400.1860\n",
      "Epoch 18/30\n",
      "31/31 [==============================] - 10s 312ms/step - loss: 1400.1860\n",
      "Epoch 19/30\n",
      "31/31 [==============================] - 10s 316ms/step - loss: 1400.1860\n",
      "Epoch 20/30\n",
      "31/31 [==============================] - 9s 305ms/step - loss: 1400.1860\n",
      "Epoch 21/30\n",
      "31/31 [==============================] - 10s 310ms/step - loss: 1400.1859\n",
      "Epoch 22/30\n",
      "31/31 [==============================] - 10s 311ms/step - loss: 1400.1859\n",
      "Epoch 23/30\n",
      "31/31 [==============================] - 10s 311ms/step - loss: 1400.1859\n",
      "Epoch 24/30\n",
      "31/31 [==============================] - 10s 318ms/step - loss: 1400.1857\n",
      "Epoch 25/30\n",
      "31/31 [==============================] - 10s 321ms/step - loss: 1400.1863\n",
      "Epoch 26/30\n",
      "31/31 [==============================] - 11s 352ms/step - loss: 1400.1860\n",
      "Epoch 27/30\n",
      "31/31 [==============================] - 16s 505ms/step - loss: 1400.1859\n",
      "Epoch 28/30\n",
      "31/31 [==============================] - 16s 505ms/step - loss: 1400.1860\n",
      "Epoch 29/30\n",
      "31/31 [==============================] - 11s 361ms/step - loss: 1400.1860\n",
      "Epoch 30/30\n",
      "31/31 [==============================] - 10s 311ms/step - loss: 1400.1860\n"
     ]
    },
    {
     "data": {
      "text/plain": [
       "<keras.callbacks.History at 0x7f77fc3fe7c0>"
      ]
     },
     "execution_count": 11,
     "metadata": {},
     "output_type": "execute_result"
    }
   ],
   "source": [
    "start = time.time()\n",
    "print('Start Time: ', start)\n",
    "model.fit(\n",
    "    np.array(images_trainPre), np.array(images_trainPre),\n",
    "    shuffle=True,\n",
    "    batch_size=264,\n",
    "\n",
    "    # validation_data= (images_trainPre, images_trainPre),\n",
    "    epochs=30,\n",
    "    callbacks=[tf.keras.callbacks.TensorBoard(log_dir=\"/users/hussein/work/galaxy-cluster/logs\")]\n",
    ")"
   ]
  },
  {
   "cell_type": "code",
   "execution_count": 12,
   "id": "55ceff9b-8f1f-4f29-b209-51800baf66ef",
   "metadata": {},
   "outputs": [],
   "source": [
    "import matplotlib.pyplot as plt\n"
   ]
  },
  {
   "cell_type": "code",
   "execution_count": 13,
   "id": "7b17ab9b-4bde-4805-b82a-3fd8a6293456",
   "metadata": {},
   "outputs": [
    {
     "name": "stdout",
     "output_type": "stream",
     "text": [
      "250/250 [==============================] - 6s 22ms/step\n"
     ]
    }
   ],
   "source": [
    "test = np.array(images_trainPre)\n",
    "output = model.predict(test)"
   ]
  },
  {
   "cell_type": "code",
   "execution_count": 14,
   "id": "103bd6da-b4ed-450d-b797-12032be9e5b5",
   "metadata": {},
   "outputs": [],
   "source": [
    "encoded_imgs = model.encoder(np.array(images_trainPre)).numpy()\n",
    "decoded_imgs = model.decoder(encoded_imgs).numpy()"
   ]
  },
  {
   "cell_type": "code",
   "execution_count": 15,
   "id": "18fe7199-d181-44e0-af56-b5f3203c6e36",
   "metadata": {},
   "outputs": [
    {
     "name": "stdout",
     "output_type": "stream",
     "text": [
      "250/250 [==============================] - 2s 7ms/step\n",
      "250/250 [==============================] - 4s 14ms/step\n"
     ]
    }
   ],
   "source": [
    "encoded_imgs = model.encoder.predict(np.array(images_trainPre))\n",
    "decoded_imgs = model.decoder.predict(np.array(encoded_imgs))"
   ]
  },
  {
   "cell_type": "code",
   "execution_count": 16,
   "id": "9b05603f-95ff-42f2-8988-ec5b1e2f6350",
   "metadata": {},
   "outputs": [
    {
     "data": {
      "image/png": "[encoded data removed]",
      "text/plain": [
       "<Figure size 2000x400 with 20 Axes>"
      ]
     },
     "metadata": {},
     "output_type": "display_data"
    }
   ],
   "source": [
    "n = 10\n",
    "plt.figure(figsize=(20, 4))\n",
    "for i in range(n):\n",
    "  # display original\n",
    "  ax = plt.subplot(2, n, i + 1)\n",
    "  plt.imshow(np.array(output)[i])\n",
    "  plt.title(\"original\")\n",
    "  plt.gray()\n",
    "  ax.get_xaxis().set_visible(False)\n",
    "  ax.get_yaxis().set_visible(False)\n",
    "\n",
    "  # display reconstruction\n",
    "  ax = plt.subplot(2, n, i + 1 + n)\n",
    "  plt.imshow(decoded_imgs[i])\n",
    "  plt.title(\"reconstructed\")\n",
    "  plt.gray()\n",
    "  ax.get_xaxis().set_visible(False)\n",
    "  ax.get_yaxis().set_visible(False)\n",
    "plt.show()"
   ]
  },
  {
   "cell_type": "code",
   "execution_count": null,
   "id": "febb143e-42e5-4794-8a63-d15e61642e65",
   "metadata": {},
   "outputs": [],
   "source": []
  }
 ],
 "metadata": {
  "kernelspec": {
   "display_name": "gal_ker",
   "language": "python",
   "name": "gal_ker"
  },
  "language_info": {
   "codemirror_mode": {
    "name": "ipython",
    "version": 3
   },
   "file_extension": ".py",
   "mimetype": "text/x-python",
   "name": "python",
   "nbconvert_exporter": "python",
   "pygments_lexer": "ipython3",
   "version": "3.8.10"
  }
 },
 "nbformat": 4,
 "nbformat_minor": 5
}
